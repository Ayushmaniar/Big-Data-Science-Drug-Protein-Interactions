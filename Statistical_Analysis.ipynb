{
 "cells": [
  {
   "cell_type": "code",
   "execution_count": 5,
   "id": "261de0de-6d98-49bf-aed5-5a89f24c3957",
   "metadata": {},
   "outputs": [],
   "source": [
    "import pandas as pd\n",
    "import numpy as np"
   ]
  },
  {
   "cell_type": "code",
   "execution_count": 9,
   "id": "6eb3f981-01ea-4a01-81dc-d6e5a8c83230",
   "metadata": {},
   "outputs": [
    {
     "name": "stdout",
     "output_type": "stream",
     "text": [
      "                  Variant  Mean_Abundance  Median_Abundance  StdDev_Abundance  \\\n",
      "0        .ESESTAGSFSLSVR.    8.159651e+06         5893250.0      6.782810e+06   \n",
      "1         .IQDKEGIPPDQQR.    6.133915e+06         3777700.0      8.890830e+06   \n",
      "2          .IFTSIGEDYDER.    2.837567e+07        12692500.0      4.175965e+07   \n",
      "3      .TAVC+57.021DIPPR.    6.198521e+06         1627300.0      1.404239e+07   \n",
      "4  .IITHPNFNGNTLDNDIMLIK.    1.492264e+08        49244000.0      2.368004e+08   \n",
      "\n",
      "   aew541_1000nm  \n",
      "0     15921000.0  \n",
      "1      4450700.0  \n",
      "2      8153300.0  \n",
      "3      4442300.0  \n",
      "4    134780000.0  \n"
     ]
    },
    {
     "name": "stderr",
     "output_type": "stream",
     "text": [
      "/var/folders/q9/9xm1_d2s70s_3vxtd8hlfv3m0000gn/T/ipykernel_92283/2589745048.py:1: DtypeWarning: Columns (12) have mixed types. Specify dtype option on import or set low_memory=False.\n",
      "  df = pd.read_csv('filtered_data.csv')\n"
     ]
    }
   ],
   "source": [
    "df = pd.read_csv('filtered_data.csv')\n",
    "\n",
    "# Identify the starting column for drug-concentration data\n",
    "start_col = 'aew541_1000nm'\n",
    "start_idx = df.columns.get_loc(start_col)\n",
    "\n",
    "# Extract all columns from the drug data onward\n",
    "drug_columns = df.columns[start_idx:]\n",
    "\n",
    "# Exclude any columns that end with '_pdpd' (those are controls we want to ignore)\n",
    "filtered_drug_columns = [col for col in drug_columns if not col.endswith('_pdpd')]\n",
    "\n",
    "# Compute statistics across the filtered drug-concentration columns\n",
    "df['Mean_Abundance'] = df[filtered_drug_columns].mean(axis=1, skipna=True)\n",
    "df['Median_Abundance'] = df[filtered_drug_columns].median(axis=1, skipna=True)\n",
    "df['StdDev_Abundance'] = df[filtered_drug_columns].std(axis=1, skipna=True)\n",
    "\n",
    "# Save the updated DataFrame to a new file (optional)\n",
    "# df.to_csv('peptide_stats_with_abundance.csv', index=False)\n",
    "\n",
    "# (Optional) Preview first few rows\n",
    "print(df[['Variant', 'Mean_Abundance', 'Median_Abundance', 'StdDev_Abundance', 'aew541_1000nm']].head())\n"
   ]
  },
  {
   "cell_type": "code",
   "execution_count": 7,
   "id": "3367ec44-0897-4ef5-9994-55bc530ae98a",
   "metadata": {},
   "outputs": [
    {
     "name": "stdout",
     "output_type": "stream",
     "text": [
      "                  Variant  Mean_Abundance  Median_Abundance  StdDev_Abundance  \\\n",
      "0        .ESESTAGSFSLSVR.    8.159651e+06         5893250.0      6.782810e+06   \n",
      "1         .IQDKEGIPPDQQR.    6.133915e+06         3777700.0      8.890830e+06   \n",
      "2          .IFTSIGEDYDER.    2.837567e+07        12692500.0      4.175965e+07   \n",
      "3      .TAVC+57.021DIPPR.    6.198521e+06         1627300.0      1.404239e+07   \n",
      "4  .IITHPNFNGNTLDNDIMLIK.    1.492264e+08        49244000.0      2.368004e+08   \n",
      "\n",
      "   aew541_1000nm  aew541_100nm  aew541_10nm  aew541_30000nm  aew541_3000nm  \n",
      "0       0.993831      1.784593     1.383618        0.172645       0.708930  \n",
      "1       0.163946      0.620730     0.173205       -0.190866      -0.126804  \n",
      "2      -0.442589      0.081917    -0.304000       -0.748152      -0.433420  \n",
      "3       1.004250      1.536108     1.380084        0.665863       0.825133  \n",
      "4       1.006856      1.810090     1.221506        0.782841       1.152491  \n"
     ]
    }
   ],
   "source": [
    "for col in filtered_drug_columns:\n",
    "    df[col] = np.where(\n",
    "        df['Median_Abundance'] > 0,\n",
    "        np.log(df[col] / df['Median_Abundance']),\n",
    "        np.nan\n",
    "    )\n",
    "\n",
    "print(df[['Variant', 'Mean_Abundance', 'Median_Abundance', 'StdDev_Abundance'] + filtered_drug_columns[:5]].head())"
   ]
  },
  {
   "cell_type": "code",
   "execution_count": 13,
   "id": "d324d135-62e8-4b98-8706-0509c2b96775",
   "metadata": {},
   "outputs": [],
   "source": [
    "df.to_csv('normalized_peptide_trend_data.csv', index=False)"
   ]
  },
  {
   "cell_type": "code",
   "execution_count": 21,
   "id": "9f2ef173-b991-457e-a355-1d1ccea6651a",
   "metadata": {},
   "outputs": [
    {
     "data": {
      "text/html": [
       "<div>\n",
       "<style scoped>\n",
       "    .dataframe tbody tr th:only-of-type {\n",
       "        vertical-align: middle;\n",
       "    }\n",
       "\n",
       "    .dataframe tbody tr th {\n",
       "        vertical-align: top;\n",
       "    }\n",
       "\n",
       "    .dataframe thead th {\n",
       "        text-align: right;\n",
       "    }\n",
       "</style>\n",
       "<table border=\"1\" class=\"dataframe\">\n",
       "  <thead>\n",
       "    <tr style=\"text-align: right;\">\n",
       "      <th></th>\n",
       "      <th>rowid</th>\n",
       "      <th>ccms_row_id</th>\n",
       "      <th>Variant</th>\n",
       "      <th>Variant ID</th>\n",
       "      <th>Unmod variant</th>\n",
       "      <th>Total</th>\n",
       "      <th>Total- Unmodified sequence</th>\n",
       "      <th>Variants- Unmodified sequence</th>\n",
       "      <th>Proteins</th>\n",
       "      <th>Mass</th>\n",
       "      <th>...</th>\n",
       "      <th>baricitib_30000nm</th>\n",
       "      <th>baricitib_3000nm</th>\n",
       "      <th>baricitib_300nm</th>\n",
       "      <th>baricitib_30nm</th>\n",
       "      <th>baricitib_3nm</th>\n",
       "      <th>baricitib_dmso</th>\n",
       "      <th>baricitib_pdpd</th>\n",
       "      <th>Mean_Abundance</th>\n",
       "      <th>Median_Abundance</th>\n",
       "      <th>StdDev_Abundance</th>\n",
       "    </tr>\n",
       "  </thead>\n",
       "  <tbody>\n",
       "    <tr>\n",
       "      <th>1</th>\n",
       "      <td>7</td>\n",
       "      <td>7</td>\n",
       "      <td>.IQDKEGIPPDQQR.</td>\n",
       "      <td>39596</td>\n",
       "      <td>.IQDKEGIPPDQQR.</td>\n",
       "      <td>6836</td>\n",
       "      <td>6882</td>\n",
       "      <td>7</td>\n",
       "      <td>sp|P0CG47|UBB_HUMAN;sp|P0CG48|UBC_HUMAN;sp|P62...</td>\n",
       "      <td>1523.8</td>\n",
       "      <td>...</td>\n",
       "      <td>2505000.0</td>\n",
       "      <td>3093800.0</td>\n",
       "      <td>4726100.0</td>\n",
       "      <td>7930900.0</td>\n",
       "      <td>8424800.0</td>\n",
       "      <td>11643000.0</td>\n",
       "      <td>5830600.0</td>\n",
       "      <td>6.133915e+06</td>\n",
       "      <td>3777700.0</td>\n",
       "      <td>8.890830e+06</td>\n",
       "    </tr>\n",
       "    <tr>\n",
       "      <th>2</th>\n",
       "      <td>11</td>\n",
       "      <td>11</td>\n",
       "      <td>.IFTSIGEDYDER.</td>\n",
       "      <td>36599</td>\n",
       "      <td>.IFTSIGEDYDER.</td>\n",
       "      <td>5284</td>\n",
       "      <td>5412</td>\n",
       "      <td>7</td>\n",
       "      <td>sp|P35232-2|PHB_HUMAN;sp|P35232|PHB_HUMAN;tr|C...</td>\n",
       "      <td>1444.6</td>\n",
       "      <td>...</td>\n",
       "      <td>46563000.0</td>\n",
       "      <td>37421000.0</td>\n",
       "      <td>54811000.0</td>\n",
       "      <td>96800000.0</td>\n",
       "      <td>78860000.0</td>\n",
       "      <td>75034000.0</td>\n",
       "      <td>70372000.0</td>\n",
       "      <td>2.837567e+07</td>\n",
       "      <td>12692500.0</td>\n",
       "      <td>4.175965e+07</td>\n",
       "    </tr>\n",
       "    <tr>\n",
       "      <th>3</th>\n",
       "      <td>14</td>\n",
       "      <td>14</td>\n",
       "      <td>.TAVC+57.021DIPPR.</td>\n",
       "      <td>87369</td>\n",
       "      <td>.TAVCDIPPR.</td>\n",
       "      <td>4837</td>\n",
       "      <td>4837</td>\n",
       "      <td>1</td>\n",
       "      <td>sp|A6NNZ2|TBB8B_HUMAN;sp|P04350|TBB4A_HUMAN;sp...</td>\n",
       "      <td>1085.5</td>\n",
       "      <td>...</td>\n",
       "      <td>987920.0</td>\n",
       "      <td>1095500.0</td>\n",
       "      <td>2920500.0</td>\n",
       "      <td>4860600.0</td>\n",
       "      <td>7768400.0</td>\n",
       "      <td>2558000.0</td>\n",
       "      <td>3113400.0</td>\n",
       "      <td>6.198521e+06</td>\n",
       "      <td>1627300.0</td>\n",
       "      <td>1.404239e+07</td>\n",
       "    </tr>\n",
       "  </tbody>\n",
       "</table>\n",
       "<p>3 rows × 466 columns</p>\n",
       "</div>"
      ],
      "text/plain": [
       "   rowid  ccms_row_id             Variant  Variant ID    Unmod variant  Total  \\\n",
       "1      7            7     .IQDKEGIPPDQQR.       39596  .IQDKEGIPPDQQR.   6836   \n",
       "2     11           11      .IFTSIGEDYDER.       36599   .IFTSIGEDYDER.   5284   \n",
       "3     14           14  .TAVC+57.021DIPPR.       87369      .TAVCDIPPR.   4837   \n",
       "\n",
       "   Total- Unmodified sequence  Variants- Unmodified sequence  \\\n",
       "1                        6882                              7   \n",
       "2                        5412                              7   \n",
       "3                        4837                              1   \n",
       "\n",
       "                                            Proteins    Mass  ...  \\\n",
       "1  sp|P0CG47|UBB_HUMAN;sp|P0CG48|UBC_HUMAN;sp|P62...  1523.8  ...   \n",
       "2  sp|P35232-2|PHB_HUMAN;sp|P35232|PHB_HUMAN;tr|C...  1444.6  ...   \n",
       "3  sp|A6NNZ2|TBB8B_HUMAN;sp|P04350|TBB4A_HUMAN;sp...  1085.5  ...   \n",
       "\n",
       "   baricitib_30000nm  baricitib_3000nm baricitib_300nm  baricitib_30nm  \\\n",
       "1          2505000.0         3093800.0       4726100.0       7930900.0   \n",
       "2         46563000.0        37421000.0      54811000.0      96800000.0   \n",
       "3           987920.0         1095500.0       2920500.0       4860600.0   \n",
       "\n",
       "  baricitib_3nm  baricitib_dmso baricitib_pdpd  Mean_Abundance  \\\n",
       "1     8424800.0      11643000.0      5830600.0    6.133915e+06   \n",
       "2    78860000.0      75034000.0     70372000.0    2.837567e+07   \n",
       "3     7768400.0       2558000.0      3113400.0    6.198521e+06   \n",
       "\n",
       "   Median_Abundance StdDev_Abundance  \n",
       "1         3777700.0     8.890830e+06  \n",
       "2        12692500.0     4.175965e+07  \n",
       "3         1627300.0     1.404239e+07  \n",
       "\n",
       "[3 rows x 466 columns]"
      ]
     },
     "execution_count": 21,
     "metadata": {},
     "output_type": "execute_result"
    }
   ],
   "source": []
  },
  {
   "cell_type": "code",
   "execution_count": 31,
   "id": "524d7338-741a-4bdf-9054-8ed4de6dbb1e",
   "metadata": {},
   "outputs": [
    {
     "name": "stderr",
     "output_type": "stream",
     "text": [
      "/var/folders/q9/9xm1_d2s70s_3vxtd8hlfv3m0000gn/T/ipykernel_92283/2982508481.py:1: FutureWarning: Series.__getitem__ treating keys as positions is deprecated. In a future version, integer keys will always be treated as labels (consistent with DataFrame behavior). To access a value by position, use `ser.iloc[pos]`\n",
      "  df.iloc[2][8]\n"
     ]
    },
    {
     "data": {
      "text/plain": [
       "'sp|P35232-2|PHB_HUMAN;sp|P35232|PHB_HUMAN;tr|C9JW96|C9JW96_HUMAN;tr|C9JZ20|C9JZ20_HUMAN;tr|D6RBK0|D6RBK0_HUMAN;tr|E7ESE2|E7ESE2_HUMAN;tr|E9PCW0|E9PCW0_HUMAN'"
      ]
     },
     "execution_count": 31,
     "metadata": {},
     "output_type": "execute_result"
    }
   ],
   "source": [
    "df.iloc[2][8]"
   ]
  },
  {
   "cell_type": "code",
   "execution_count": null,
   "id": "4a15cb3e-b9aa-4f07-b6d2-08fe0e18d4a9",
   "metadata": {},
   "outputs": [],
   "source": []
  }
 ],
 "metadata": {
  "kernelspec": {
   "display_name": "Python 3 (ipykernel)",
   "language": "python",
   "name": "python3"
  },
  "language_info": {
   "codemirror_mode": {
    "name": "ipython",
    "version": 3
   },
   "file_extension": ".py",
   "mimetype": "text/x-python",
   "name": "python",
   "nbconvert_exporter": "python",
   "pygments_lexer": "ipython3",
   "version": "3.12.2"
  }
 },
 "nbformat": 4,
 "nbformat_minor": 5
}
